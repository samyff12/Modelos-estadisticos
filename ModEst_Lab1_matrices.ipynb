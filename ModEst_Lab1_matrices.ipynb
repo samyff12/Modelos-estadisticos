{
  "nbformat": 4,
  "nbformat_minor": 0,
  "metadata": {
    "colab": {
      "name": "ModEst_Lab1_matrices.ipynb",
      "provenance": [],
      "collapsed_sections": [],
      "include_colab_link": true
    },
    "kernelspec": {
      "name": "python3",
      "display_name": "Python 3"
    },
    "language_info": {
      "name": "python"
    }
  },
  "cells": [
    {
      "cell_type": "markdown",
      "metadata": {
        "id": "view-in-github",
        "colab_type": "text"
      },
      "source": [
        "<a href=\"https://colab.research.google.com/github/samyff12/Modelos-estadisticos/blob/main/ModEst_Lab1_matrices.ipynb\" target=\"_parent\"><img src=\"https://colab.research.google.com/assets/colab-badge.svg\" alt=\"Open In Colab\"/></a>"
      ]
    },
    {
      "cell_type": "markdown",
      "metadata": {
        "id": "WKidRjkb0aMQ"
      },
      "source": [
        "# Laboratorio 1.\n",
        "## Manejo de matrices\n",
        "El objetivo de este laboratorio es aprender cómo se realizan las principales operaciones del álgebra lineal usando de Python, la librería $\\texttt{numpy}$. "
      ]
    },
    {
      "cell_type": "markdown",
      "metadata": {
        "id": "HFthGYmKVSYo"
      },
      "source": [
        "## Actividad 1. Introducción\n",
        "En esta actividad creamos una matriz $A_{(2\\times 3)}$ y encontramos sus características. Asimismo, vemos como se recorre y extraen los valores de su interior."
      ]
    },
    {
      "cell_type": "code",
      "metadata": {
        "colab": {
          "base_uri": "https://localhost:8080/"
        },
        "id": "vNaJAHkM0V-P",
        "outputId": "f0baa565-c758-4eaa-c94a-c2959fd3d697"
      },
      "source": [
        "import numpy as np\n",
        "\n",
        "# Definiendo una matriz\n",
        "A = np.array([[1,2,3], [4,5,6]])\n",
        "print(\"La matriz: \\n\", A, \"\\n\")\n",
        "nrow, ncol = A.shape #  Dimensión de la matriz                        matrices de mas de dos dimensiones se llaman tensores\n",
        "print(\"Número de filas: \", nrow)\n",
        "print(\"Número de columnas: \", ncol)\n",
        "print(\"La primera fila: \", A[0])\n",
        "print(\"La primera columna: \", A[:,0])\n",
        "print(\"El primer elemento: \", A[0,0])\n",
        "\n",
        "# Recorriendo la matriz\n",
        "print(\"Sus elementos escritos en orden a aparición:\")\n",
        "for i in range(nrow):\n",
        "  for j in range(ncol):\n",
        "    print(A[i,j])"
      ],
      "execution_count": 2,
      "outputs": [
        {
          "output_type": "stream",
          "name": "stdout",
          "text": [
            "La matriz: \n",
            " [[1 2 3]\n",
            " [4 5 6]] \n",
            "\n",
            "Número de filas:  2\n",
            "Número de columnas:  3\n",
            "La primera fila:  [1 2 3]\n",
            "La primera columna:  [1 4]\n",
            "El primer elemento:  1\n",
            "Sus elementos escritos en orden a aparición:\n",
            "1\n",
            "2\n",
            "3\n",
            "4\n",
            "5\n",
            "6\n"
          ]
        }
      ]
    },
    {
      "cell_type": "markdown",
      "metadata": {
        "id": "ceTOkY54Vkd8"
      },
      "source": [
        "## Actividad 2. La traspuesta y el producto escalar\n",
        "Ahora, además de $A$ creamos la matriz $B_{(3\\times 2)}$."
      ]
    },
    {
      "cell_type": "code",
      "metadata": {
        "colab": {
          "base_uri": "https://localhost:8080/"
        },
        "id": "5-R39wqk2fhv",
        "outputId": "0029a8e4-c102-4971-f7f7-820332afe72d"
      },
      "source": [
        "# Calculando su traspuesta\n",
        "print(\"La traspuesta:\\n\", A.T)\n",
        "\n",
        "# Producto escalar\n",
        "B = np.array([[7,8], [9,10], [11,12]])\n",
        "print(\"La matriz B:\")\n",
        "print(B)\n",
        "C = np.dot(A,B) # También llamado \"Producto punto\"\n",
        "print(\"AB=\\n\", C)"
      ],
      "execution_count": 7,
      "outputs": [
        {
          "output_type": "stream",
          "name": "stdout",
          "text": [
            "La traspuesta:\n",
            " [[1 4]\n",
            " [2 5]\n",
            " [3 6]]\n",
            "La matriz B:\n",
            "[[ 7  8]\n",
            " [ 9 10]\n",
            " [11 12]]\n",
            "AB=\n",
            " [[ 58  64]\n",
            " [139 154]]\n"
          ]
        }
      ]
    },
    {
      "cell_type": "markdown",
      "metadata": {
        "id": "zB_D_ektWGcG"
      },
      "source": [
        "## Actividad 3. El vector y matriz de unos"
      ]
    },
    {
      "cell_type": "code",
      "metadata": {
        "colab": {
          "base_uri": "https://localhost:8080/"
        },
        "id": "HjduAFkf5MuI",
        "outputId": "1b9dc7fb-5c20-4bd6-ff48-3298174d5eab"
      },
      "source": [
        "# Vector de unos\n",
        "j = np.ones(10, dtype=np.int64)\n",
        "j = j[:, np.newaxis] # Note que debemos transformarlo en una matriz\n",
        "# en python vector es solo un arreglo de numeros unidimensional, pero en la teoria cuando se habla de vector se habla de un vector columna\n",
        "\n",
        "print(j)\n",
        "# Matriz de unos\n",
        "J = j.dot(j.T)\n",
        "print(J)"
      ],
      "execution_count": null,
      "outputs": [
        {
          "output_type": "stream",
          "name": "stdout",
          "text": [
            "[[1]\n",
            " [1]\n",
            " [1]\n",
            " [1]\n",
            " [1]\n",
            " [1]\n",
            " [1]\n",
            " [1]\n",
            " [1]\n",
            " [1]]\n",
            "[[1 1 1 1 1 1 1 1 1 1]\n",
            " [1 1 1 1 1 1 1 1 1 1]\n",
            " [1 1 1 1 1 1 1 1 1 1]\n",
            " [1 1 1 1 1 1 1 1 1 1]\n",
            " [1 1 1 1 1 1 1 1 1 1]\n",
            " [1 1 1 1 1 1 1 1 1 1]\n",
            " [1 1 1 1 1 1 1 1 1 1]\n",
            " [1 1 1 1 1 1 1 1 1 1]\n",
            " [1 1 1 1 1 1 1 1 1 1]\n",
            " [1 1 1 1 1 1 1 1 1 1]]\n"
          ]
        }
      ]
    },
    {
      "cell_type": "code",
      "source": [
        "np.ones(10, dtype=np.int64)"
      ],
      "metadata": {
        "id": "K7uAL4gbtj4_",
        "outputId": "4f1bf548-1256-4a10-a152-0907b00bbf40",
        "colab": {
          "base_uri": "https://localhost:8080/"
        }
      },
      "execution_count": 8,
      "outputs": [
        {
          "output_type": "execute_result",
          "data": {
            "text/plain": [
              "array([1, 1, 1, 1, 1, 1, 1, 1, 1, 1])"
            ]
          },
          "metadata": {},
          "execution_count": 8
        }
      ]
    },
    {
      "cell_type": "markdown",
      "metadata": {
        "id": "UiUJjJwuWQXq"
      },
      "source": [
        "## Actividad 4. Matrices simétricas"
      ]
    },
    {
      "cell_type": "code",
      "metadata": {
        "colab": {
          "base_uri": "https://localhost:8080/"
        },
        "id": "XVkY-cKC9NJf",
        "outputId": "40f56bf3-7521-48df-e984-c26ea6e8ddd8"
      },
      "source": [
        "# Un par de matrices simétricas\n",
        "print(\"A:\\n\", A)\n",
        "print(\"AA^t:\\n\", np.dot(A, A.T))\n",
        "print(\"A^tA:\\n\", np.dot(A.T, A))"
      ],
      "execution_count": null,
      "outputs": [
        {
          "output_type": "stream",
          "name": "stdout",
          "text": [
            "A:\n",
            " [[1 2 3]\n",
            " [4 5 6]]\n",
            "AA^t:\n",
            " [[14 32]\n",
            " [32 77]]\n",
            "A^tA:\n",
            " [[17 22 27]\n",
            " [22 29 36]\n",
            " [27 36 45]]\n"
          ]
        }
      ]
    },
    {
      "cell_type": "markdown",
      "metadata": {
        "id": "k2GzM2hzXAjz"
      },
      "source": [
        "## Actividad 5. Independencia lineal\n",
        "Importamos la librería $\\texttt{linalg}$ de $\\texttt{numpy}$, especializada en álgebra lineal. La matriz $A_{(3\\times 3)}$ está formada claramente por un conjunto de vectores linealmente dependientes. Por su parte, la matriz $B_{(3\\times 3)}$ la forman vectores que esperamos linealmente independientes por haber sido generados aleatoriamente de una normal estándar. Comprobamos esto calculando los rangos."
      ]
    },
    {
      "cell_type": "code",
      "metadata": {
        "colab": {
          "base_uri": "https://localhost:8080/"
        },
        "id": "RnKBqF3C8BxK",
        "outputId": "f0ca0798-08e6-479d-bb0a-ee6d47d56ec0"
      },
      "source": [
        "from numpy import linalg as la\n",
        "\n",
        "np.random.seed(100)\n",
        "\n",
        "# Vectores linealmente independientes y dependientes\n",
        "A = np.array([[2,4,6], [4,8,12], [8,16,24]])\n",
        "B = np.array(np.random.standard_normal(9)).reshape((3,3))\n",
        "print(\"La matriz A:\\n\", A)\n",
        "print(\"La matriz B:\\n\", B)\n",
        "\n",
        "# Rango\n",
        "print(\"r(A)=\", la.matrix_rank(A))\n",
        "print(\"r(B)=\", la.matrix_rank(B))\n",
        "C = np.dot(A.T, A)\n",
        "print(\"La matriz C=A^tA:\\n\", C)\n",
        "print(\"r(C)=\", la.matrix_rank(C))\n"
      ],
      "execution_count": null,
      "outputs": [
        {
          "output_type": "stream",
          "name": "stdout",
          "text": [
            "La matriz A:\n",
            " [[ 2  4  6]\n",
            " [ 4  8 12]\n",
            " [ 8 16 24]]\n",
            "La matriz B:\n",
            " [[-1.74976547  0.3426804   1.1530358 ]\n",
            " [-0.25243604  0.98132079  0.51421884]\n",
            " [ 0.22117967 -1.07004333 -0.18949583]]\n",
            "r(A)= 1\n",
            "r(B)= 3\n",
            "La matriz C=A^tA:\n",
            " [[ 84 168 252]\n",
            " [168 336 504]\n",
            " [252 504 756]]\n",
            "r(C)= 1\n"
          ]
        }
      ]
    },
    {
      "cell_type": "markdown",
      "metadata": {
        "id": "t8sWSbsBYRp0"
      },
      "source": [
        "## Actividad 6. Otras matrices importantes"
      ]
    },
    {
      "cell_type": "code",
      "metadata": {
        "colab": {
          "base_uri": "https://localhost:8080/"
        },
        "id": "7YkzLD6AD_z1",
        "outputId": "cc7c8f24-6e69-49f9-e4e2-954e29825928"
      },
      "source": [
        "print(\"La matriz de ceros\")\n",
        "Z = np.zeros((5,5))\n",
        "print(Z)\n",
        "\n",
        "print(\"Una matriz cuadrada cualquiera A\")\n",
        "A = np.round(np.array(np.random.standard_normal(25)).reshape((5,5)),2)\n",
        "print(A)\n",
        "print(\"Su diagonal\")\n",
        "print(A.diagonal())\n",
        "\n",
        "print(\"Una matriz diagonal\")\n",
        "B = np.diag([1,2,3,4,5])\n",
        "print(B)\n",
        "\n",
        "print(\"La matriz identidad\")\n",
        "I = np.diag(np.ones(3, dtype=np.int64))\n",
        "print(I)\n",
        "\n",
        "print(\"Una matriz idempotente\")\n",
        "A = np.array([[2,-3,-5], [-1,4,5], [1,-3,-4]])\n",
        "print(\"A:\")\n",
        "print(A)\n",
        "print(\"AA:\")\n",
        "print(A.dot(A))\n",
        "\n",
        "print(la.matrix_rank(A))\n"
      ],
      "execution_count": null,
      "outputs": [
        {
          "output_type": "stream",
          "name": "stdout",
          "text": [
            "La matriz de ceros\n",
            "[[0. 0. 0. 0. 0.]\n",
            " [0. 0. 0. 0. 0.]\n",
            " [0. 0. 0. 0. 0.]\n",
            " [0. 0. 0. 0. 0.]\n",
            " [0. 0. 0. 0. 0.]]\n",
            "Una matriz cuadrada cualquiera A\n",
            "[[-0.75 -1.3   0.1  -0.42 -1.19]\n",
            " [-0.37 -1.27  1.59  0.69 -1.96]\n",
            " [-0.13 -1.54  2.05 -1.4  -1.1 ]\n",
            " [-0.24 -1.43  0.95 -0.02  0.89]\n",
            " [ 0.76 -1.5  -1.19  1.3   0.95]]\n",
            "Su diagonal\n",
            "[-0.75 -1.27  2.05 -0.02  0.95]\n",
            "Una matriz diagonal\n",
            "[[1 0 0 0 0]\n",
            " [0 2 0 0 0]\n",
            " [0 0 3 0 0]\n",
            " [0 0 0 4 0]\n",
            " [0 0 0 0 5]]\n",
            "La matriz identidad\n",
            "[[1 0 0]\n",
            " [0 1 0]\n",
            " [0 0 1]]\n",
            "Una matriz idempotente\n",
            "A:\n",
            "[[ 2 -3 -5]\n",
            " [-1  4  5]\n",
            " [ 1 -3 -4]]\n",
            "AA:\n",
            "[[ 2 -3 -5]\n",
            " [-1  4  5]\n",
            " [ 1 -3 -4]]\n",
            "2\n"
          ]
        }
      ]
    },
    {
      "cell_type": "markdown",
      "metadata": {
        "id": "ee01xb-9PY1X"
      },
      "source": [
        "## Actividad 7. Ilustremos la tarea\n",
        "Recordamos que, llegados a este punto, la tarea era demostrar que si $A$ es idempotente, entonces $I-A$ también lo es. Debemos probar que $(I-A)(I-A)=(I-A)$, entonces $(I-A)(I-A) = II-IA-AI+AA = I-A-A+A = I-A$, ya que $AA=A$ debido a su idempotencia. Su ilustración entonces: "
      ]
    },
    {
      "cell_type": "code",
      "metadata": {
        "colab": {
          "base_uri": "https://localhost:8080/"
        },
        "id": "-9gzM1_zPdE2",
        "outputId": "cee65047-d776-47f5-e486-e4381428ebde"
      },
      "source": [
        "B=I-A\n",
        "print(B)\n",
        "C = np.dot(B, B)\n",
        "print(C)"
      ],
      "execution_count": null,
      "outputs": [
        {
          "output_type": "stream",
          "name": "stdout",
          "text": [
            "[[-1  3  5]\n",
            " [ 1 -3 -5]\n",
            " [-1  3  5]]\n",
            "[[-1  3  5]\n",
            " [ 1 -3 -5]\n",
            " [-1  3  5]]\n"
          ]
        }
      ]
    },
    {
      "cell_type": "markdown",
      "metadata": {
        "id": "3WBwdUJnoFGB"
      },
      "source": [
        "## Actividad 8. La matriz inversa\n",
        "(o la inversa de una matriz)"
      ]
    },
    {
      "cell_type": "code",
      "metadata": {
        "colab": {
          "base_uri": "https://localhost:8080/"
        },
        "id": "hu1W_HcZoRYy",
        "outputId": "5e461a64-7052-45bf-c6ed-ac1670379867"
      },
      "source": [
        "# Una que debería tener inversa...\n",
        "print(\"A\")\n",
        "A = np.round(np.array(np.random.standard_normal(25)).reshape((5,5)),2)\n",
        "print(A)\n",
        "print(\"r(A)=\", la.matrix_rank(A))\n",
        "\n",
        "print(\"La inversa de A\")\n",
        "A_i = la.inv(A)\n",
        "print(A_i)\n",
        "print(\"AA^{-1}\")\n",
        "R = np.dot(A, A_i)\n",
        "print(R.round())\n",
        "\n",
        "# Una que no tiene...\n",
        "# Bi = la.inv(B)\n",
        "\n",
        "# Veamos sus determinantes\n",
        "Ad = la.det(A)\n",
        "Bd = la.det(B)\n",
        "print(\"Determinante de A:\", Ad)\n",
        "print(\"Determinante de B:\", Bd)"
      ],
      "execution_count": null,
      "outputs": [
        {
          "output_type": "stream",
          "name": "stdout",
          "text": [
            "A\n",
            "[[-0.34  0.53 -0.37  0.48 -1.43]\n",
            " [ 0.41 -0.83  0.42 -0.16  1.24]\n",
            " [ 1.66 -0.66  3.47  0.39  0.33]\n",
            " [-0.31 -1.42 -0.62 -0.11  0.95]\n",
            " [-0.98 -1.09 -0.24 -0.6  -0.98]]\n",
            "r(A)= 5\n",
            "La inversa de A\n",
            "[[ 10.93408416  22.7010763   -3.12810329  -9.59057062   2.41865112]\n",
            " [ -2.82676604  -5.29907942   0.58322133   1.66090897  -0.7737311 ]\n",
            " [ -4.94195655  -9.95357677   1.60913401   3.98006691  -0.98301993]\n",
            " [ -3.7047276  -10.11018681   1.62651678   5.17188038  -1.8253411 ]\n",
            " [ -4.31155241  -8.17968133   1.08951811   3.60206545  -1.22018547]]\n",
            "AA^{-1}\n",
            "[[ 1. -0. -0. -0.  0.]\n",
            " [-0.  1.  0. -0.  0.]\n",
            " [ 0. -0.  1. -0.  0.]\n",
            " [-0.  0. -0.  1. -0.]\n",
            " [-0. -0.  0.  0.  1.]]\n",
            "Determinante de A: 0.3435172370999998\n",
            "Determinante de B: 0.0\n"
          ]
        }
      ]
    },
    {
      "cell_type": "markdown",
      "metadata": {
        "id": "EtHz0c-2cAOx"
      },
      "source": [
        "## Actividad 9. Valores y vectores propios"
      ]
    },
    {
      "cell_type": "code",
      "metadata": {
        "colab": {
          "base_uri": "https://localhost:8080/"
        },
        "id": "aH3XwAHrPSxY",
        "outputId": "3aec0d32-d7cc-44d3-cb65-07a7b0b30457"
      },
      "source": [
        "# Valores (v) y vectores propios (w)\n",
        "A = np.array([[2,0,0,0],[1,2,0,0],[0,1,3,0],[0,0,1,3]])\n",
        "print(\"A:\\n\", A)\n",
        "print(\"r(A)=\", la.matrix_rank(A))\n",
        "v, W = la.eig(A)\n",
        "print(\"Valores propios:\\n\", v.round(1))\n",
        "print(\"Vectores propios:\\n\", W.round(1))\n",
        "\n",
        "idx_vector = 0\n",
        "# Raíces del polinomio característico\n",
        "I = np.eye(4)\n",
        "print(\"Identidad:\\n\", I)\n",
        "R = A - v[idx_vector]*(I)\n",
        "print(\"Matriz del polinomio característico:\\n\", R)\n",
        "print(\"Su determinante:\\n\", la.det(R))\n",
        "\n",
        "# Verificando los vectores propios\n",
        "C = R.dot(W[:, idx_vector])\n",
        "print(\"C:\", C.round(5))\n",
        "\n",
        "# La traza\n",
        "print(A.trace())\n",
        "\n",
        "# Ahora una matriz idempotente\n",
        "B = np.array([[2,-3,-5], [-1,4,5], [1,-3,-4]])\n",
        "print(\"Matriz idempotente B:\\n\", B)\n",
        "print(\"Su traza:\", B.trace())\n",
        "print(\"Su rango:\", la.matrix_rank(B))\n",
        "v1, W1 = la.eig(B)\n",
        "print(\"Sus valores propios: \", v1.round())"
      ],
      "execution_count": null,
      "outputs": [
        {
          "output_type": "stream",
          "name": "stdout",
          "text": [
            "A:\n",
            " [[2 0 0 0]\n",
            " [1 2 0 0]\n",
            " [0 1 3 0]\n",
            " [0 0 1 3]]\n",
            "r(A)= 4\n",
            "Valores propios:\n",
            " [3. 3. 2. 2.]\n",
            "Vectores propios:\n",
            " [[ 0.   0.   0.   0. ]\n",
            " [ 0.   0.   0.6 -0.6]\n",
            " [ 0.   0.  -0.6  0.6]\n",
            " [ 1.  -1.   0.6 -0.6]]\n",
            "Identidad:\n",
            " [[1. 0. 0. 0.]\n",
            " [0. 1. 0. 0.]\n",
            " [0. 0. 1. 0.]\n",
            " [0. 0. 0. 1.]]\n",
            "Matriz del polinomio característico:\n",
            " [[-1.  0.  0.  0.]\n",
            " [ 1. -1.  0.  0.]\n",
            " [ 0.  1.  0.  0.]\n",
            " [ 0.  0.  1.  0.]]\n",
            "Su determinante:\n",
            " 0.0\n",
            "C: [0. 0. 0. 0.]\n",
            "10\n",
            "Matriz idempotente B:\n",
            " [[ 2 -3 -5]\n",
            " [-1  4  5]\n",
            " [ 1 -3 -4]]\n",
            "Su traza: 2\n",
            "Su rango: 2\n",
            "Sus valores propios:  [0. 1. 1.]\n"
          ]
        }
      ]
    },
    {
      "cell_type": "markdown",
      "metadata": {
        "id": "eJ1xDIiP0xPu"
      },
      "source": [
        "## Actividad 10. Solución de sistemas de ecuaciones lineales\n",
        "Sea el sistema de ecuaciones $Ax=b$. Hay cuatro posibilidades, a saber:\n",
        "+ $A$ es una matriz de rango completo, entonces $A^{-1}Ax=A^{-1}b$ de donde $x=A^{-1}b$.\n",
        "+ $A_{m\\times n}$ es una matriz de rango completo por columnas (lo que implica, entre otras cosas, que $m\\geq n$), entonces $A'Ax=A'b$ de donde $(A'A)^{-1}A'Ax=(A'A)^{-1}A'b$, luego $x=(A'A)^{-1}A'b$.\n",
        "+ $A_{m\\times n}$ es una matriz de rango completo por filas (lo que implica que $m\\leq n$), entonces el sistema tiene múltiples soluciones.\n",
        "+ $A$ es una matriz de rango incompleto, entonces ni $A$ ni $A'A$ tienen inversa y el sistema puede o no tener solución o tener múltiples soluciones."
      ]
    },
    {
      "cell_type": "code",
      "metadata": {
        "colab": {
          "base_uri": "https://localhost:8080/"
        },
        "id": "bDoefKU53ZdT",
        "outputId": "399ca45c-1246-48a6-c619-3f55f4f66daf"
      },
      "source": [
        "# Conectando con Drive\n",
        "from google.colab import drive\n",
        "\n",
        "drive.mount(\"/content/drive\")"
      ],
      "execution_count": null,
      "outputs": [
        {
          "output_type": "stream",
          "name": "stdout",
          "text": [
            "Mounted at /content/drive\n"
          ]
        }
      ]
    },
    {
      "cell_type": "code",
      "metadata": {
        "colab": {
          "base_uri": "https://localhost:8080/",
          "height": 495
        },
        "id": "PbyrDfRL93Da",
        "outputId": "7ed47f76-fc01-4bf0-a702-f006a9c3d3d6"
      },
      "source": [
        "# Leyendo un archivo de datos\n",
        "import pandas as pd\n",
        "df = pd.read_csv(\"/content/drive/MyDrive/Colab Notebooks/DSRP/Modelos estadísticos/ModEst_Lab1_Datos_1.csv\",\n",
        "                 header=0, sep=\";\")\n",
        "display(df)\n",
        "print(df.dtypes)"
      ],
      "execution_count": null,
      "outputs": [
        {
          "output_type": "display_data",
          "data": {
            "text/html": [
              "\n",
              "  <div id=\"df-0d8e4c43-f645-47dd-9823-d0b5c1500f6c\">\n",
              "    <div class=\"colab-df-container\">\n",
              "      <div>\n",
              "<style scoped>\n",
              "    .dataframe tbody tr th:only-of-type {\n",
              "        vertical-align: middle;\n",
              "    }\n",
              "\n",
              "    .dataframe tbody tr th {\n",
              "        vertical-align: top;\n",
              "    }\n",
              "\n",
              "    .dataframe thead th {\n",
              "        text-align: right;\n",
              "    }\n",
              "</style>\n",
              "<table border=\"1\" class=\"dataframe\">\n",
              "  <thead>\n",
              "    <tr style=\"text-align: right;\">\n",
              "      <th></th>\n",
              "      <th>y</th>\n",
              "      <th>v1</th>\n",
              "      <th>v2</th>\n",
              "    </tr>\n",
              "  </thead>\n",
              "  <tbody>\n",
              "    <tr>\n",
              "      <th>0</th>\n",
              "      <td>2</td>\n",
              "      <td>0</td>\n",
              "      <td>2</td>\n",
              "    </tr>\n",
              "    <tr>\n",
              "      <th>1</th>\n",
              "      <td>3</td>\n",
              "      <td>2</td>\n",
              "      <td>6</td>\n",
              "    </tr>\n",
              "    <tr>\n",
              "      <th>2</th>\n",
              "      <td>2</td>\n",
              "      <td>2</td>\n",
              "      <td>7</td>\n",
              "    </tr>\n",
              "    <tr>\n",
              "      <th>3</th>\n",
              "      <td>7</td>\n",
              "      <td>2</td>\n",
              "      <td>5</td>\n",
              "    </tr>\n",
              "    <tr>\n",
              "      <th>4</th>\n",
              "      <td>6</td>\n",
              "      <td>4</td>\n",
              "      <td>9</td>\n",
              "    </tr>\n",
              "    <tr>\n",
              "      <th>5</th>\n",
              "      <td>8</td>\n",
              "      <td>4</td>\n",
              "      <td>8</td>\n",
              "    </tr>\n",
              "    <tr>\n",
              "      <th>6</th>\n",
              "      <td>10</td>\n",
              "      <td>4</td>\n",
              "      <td>7</td>\n",
              "    </tr>\n",
              "    <tr>\n",
              "      <th>7</th>\n",
              "      <td>7</td>\n",
              "      <td>6</td>\n",
              "      <td>10</td>\n",
              "    </tr>\n",
              "    <tr>\n",
              "      <th>8</th>\n",
              "      <td>8</td>\n",
              "      <td>6</td>\n",
              "      <td>11</td>\n",
              "    </tr>\n",
              "    <tr>\n",
              "      <th>9</th>\n",
              "      <td>12</td>\n",
              "      <td>6</td>\n",
              "      <td>9</td>\n",
              "    </tr>\n",
              "    <tr>\n",
              "      <th>10</th>\n",
              "      <td>11</td>\n",
              "      <td>8</td>\n",
              "      <td>15</td>\n",
              "    </tr>\n",
              "    <tr>\n",
              "      <th>11</th>\n",
              "      <td>14</td>\n",
              "      <td>8</td>\n",
              "      <td>13</td>\n",
              "    </tr>\n",
              "  </tbody>\n",
              "</table>\n",
              "</div>\n",
              "      <button class=\"colab-df-convert\" onclick=\"convertToInteractive('df-0d8e4c43-f645-47dd-9823-d0b5c1500f6c')\"\n",
              "              title=\"Convert this dataframe to an interactive table.\"\n",
              "              style=\"display:none;\">\n",
              "        \n",
              "  <svg xmlns=\"http://www.w3.org/2000/svg\" height=\"24px\"viewBox=\"0 0 24 24\"\n",
              "       width=\"24px\">\n",
              "    <path d=\"M0 0h24v24H0V0z\" fill=\"none\"/>\n",
              "    <path d=\"M18.56 5.44l.94 2.06.94-2.06 2.06-.94-2.06-.94-.94-2.06-.94 2.06-2.06.94zm-11 1L8.5 8.5l.94-2.06 2.06-.94-2.06-.94L8.5 2.5l-.94 2.06-2.06.94zm10 10l.94 2.06.94-2.06 2.06-.94-2.06-.94-.94-2.06-.94 2.06-2.06.94z\"/><path d=\"M17.41 7.96l-1.37-1.37c-.4-.4-.92-.59-1.43-.59-.52 0-1.04.2-1.43.59L10.3 9.45l-7.72 7.72c-.78.78-.78 2.05 0 2.83L4 21.41c.39.39.9.59 1.41.59.51 0 1.02-.2 1.41-.59l7.78-7.78 2.81-2.81c.8-.78.8-2.07 0-2.86zM5.41 20L4 18.59l7.72-7.72 1.47 1.35L5.41 20z\"/>\n",
              "  </svg>\n",
              "      </button>\n",
              "      \n",
              "  <style>\n",
              "    .colab-df-container {\n",
              "      display:flex;\n",
              "      flex-wrap:wrap;\n",
              "      gap: 12px;\n",
              "    }\n",
              "\n",
              "    .colab-df-convert {\n",
              "      background-color: #E8F0FE;\n",
              "      border: none;\n",
              "      border-radius: 50%;\n",
              "      cursor: pointer;\n",
              "      display: none;\n",
              "      fill: #1967D2;\n",
              "      height: 32px;\n",
              "      padding: 0 0 0 0;\n",
              "      width: 32px;\n",
              "    }\n",
              "\n",
              "    .colab-df-convert:hover {\n",
              "      background-color: #E2EBFA;\n",
              "      box-shadow: 0px 1px 2px rgba(60, 64, 67, 0.3), 0px 1px 3px 1px rgba(60, 64, 67, 0.15);\n",
              "      fill: #174EA6;\n",
              "    }\n",
              "\n",
              "    [theme=dark] .colab-df-convert {\n",
              "      background-color: #3B4455;\n",
              "      fill: #D2E3FC;\n",
              "    }\n",
              "\n",
              "    [theme=dark] .colab-df-convert:hover {\n",
              "      background-color: #434B5C;\n",
              "      box-shadow: 0px 1px 3px 1px rgba(0, 0, 0, 0.15);\n",
              "      filter: drop-shadow(0px 1px 2px rgba(0, 0, 0, 0.3));\n",
              "      fill: #FFFFFF;\n",
              "    }\n",
              "  </style>\n",
              "\n",
              "      <script>\n",
              "        const buttonEl =\n",
              "          document.querySelector('#df-0d8e4c43-f645-47dd-9823-d0b5c1500f6c button.colab-df-convert');\n",
              "        buttonEl.style.display =\n",
              "          google.colab.kernel.accessAllowed ? 'block' : 'none';\n",
              "\n",
              "        async function convertToInteractive(key) {\n",
              "          const element = document.querySelector('#df-0d8e4c43-f645-47dd-9823-d0b5c1500f6c');\n",
              "          const dataTable =\n",
              "            await google.colab.kernel.invokeFunction('convertToInteractive',\n",
              "                                                     [key], {});\n",
              "          if (!dataTable) return;\n",
              "\n",
              "          const docLinkHtml = 'Like what you see? Visit the ' +\n",
              "            '<a target=\"_blank\" href=https://colab.research.google.com/notebooks/data_table.ipynb>data table notebook</a>'\n",
              "            + ' to learn more about interactive tables.';\n",
              "          element.innerHTML = '';\n",
              "          dataTable['output_type'] = 'display_data';\n",
              "          await google.colab.output.renderOutput(dataTable, element);\n",
              "          const docLink = document.createElement('div');\n",
              "          docLink.innerHTML = docLinkHtml;\n",
              "          element.appendChild(docLink);\n",
              "        }\n",
              "      </script>\n",
              "    </div>\n",
              "  </div>\n",
              "  "
            ],
            "text/plain": [
              "     y  v1  v2\n",
              "0    2   0   2\n",
              "1    3   2   6\n",
              "2    2   2   7\n",
              "3    7   2   5\n",
              "4    6   4   9\n",
              "5    8   4   8\n",
              "6   10   4   7\n",
              "7    7   6  10\n",
              "8    8   6  11\n",
              "9   12   6   9\n",
              "10  11   8  15\n",
              "11  14   8  13"
            ]
          },
          "metadata": {}
        },
        {
          "output_type": "stream",
          "name": "stdout",
          "text": [
            "y     int64\n",
            "v1    int64\n",
            "v2    int64\n",
            "dtype: object\n"
          ]
        }
      ]
    },
    {
      "cell_type": "code",
      "metadata": {
        "colab": {
          "base_uri": "https://localhost:8080/"
        },
        "id": "WwX3NVcR_HIz",
        "outputId": "9daee418-f6f8-4bac-c7a9-b994b50a57ea"
      },
      "source": [
        "# Resolviendo el sistema\n",
        "df['y']\n",
        "b = np.array(df['y'])\n",
        "b = b[:, np.newaxis]\n",
        "A = np.array([np.ones(12), df['v1'], df['v2']])\n",
        "A = A.T\n",
        "print(\"b\\n\", b)\n",
        "print(\"A\\n\", A)\n",
        "print(\"r(A)=\", la.matrix_rank(A))\n",
        "\n",
        "AtA = np.dot(A.T, A)\n",
        "AtAi = la.inv(AtA)\n",
        "x = la.multi_dot([AtAi, A.T, b])\n",
        "print(\"La solución: \", x)"
      ],
      "execution_count": null,
      "outputs": [
        {
          "output_type": "stream",
          "name": "stdout",
          "text": [
            "b\n",
            " [[ 2]\n",
            " [ 3]\n",
            " [ 2]\n",
            " [ 7]\n",
            " [ 6]\n",
            " [ 8]\n",
            " [10]\n",
            " [ 7]\n",
            " [ 8]\n",
            " [12]\n",
            " [11]\n",
            " [14]]\n",
            "A\n",
            " [[ 1.  0.  2.]\n",
            " [ 1.  2.  6.]\n",
            " [ 1.  2.  7.]\n",
            " [ 1.  2.  5.]\n",
            " [ 1.  4.  9.]\n",
            " [ 1.  4.  8.]\n",
            " [ 1.  4.  7.]\n",
            " [ 1.  6. 10.]\n",
            " [ 1.  6. 11.]\n",
            " [ 1.  6.  9.]\n",
            " [ 1.  8. 15.]\n",
            " [ 1.  8. 13.]]\n",
            "r(A)= 3\n",
            "La solución:  [[ 5.37539432]\n",
            " [ 3.01182965]\n",
            " [-1.28548896]]\n"
          ]
        }
      ]
    },
    {
      "cell_type": "markdown",
      "metadata": {
        "id": "8fjJ3c-1gDGM"
      },
      "source": [
        "## Tarea 1\n",
        "Investigar sobre el método $\\texttt{solve}$ de $\\texttt{linalg}$ y resolver el sistema\n",
        "\\begin{eqnarray}\n",
        "\\nonumber \\left\\{\\begin{matrix}\n",
        "3x_1 + 2x_2 + x_3 & = & 1\\\\\n",
        "2x_1 + 2x_2 + 4x_3 & = & -2\\\\\n",
        "-x_1 + \\frac{1}{2}x_2 -2x_3 & = & 0\n",
        "\\end{matrix}\\right.\n",
        "\\end{eqnarray}\n",
        "¿Qué habría que hacer para resolver el ejemplo anterior usando este método?"
      ]
    }
  ]
}